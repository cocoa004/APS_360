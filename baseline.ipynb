{
 "cells": [
  {
   "cell_type": "code",
   "execution_count": 2,
   "metadata": {},
   "outputs": [],
   "source": [
    "import torch as t\n",
    "from torchvision import transforms, datasets\n",
    "from torch.utils.data import DataLoader\n",
    "from sklearn.preprocessing import StandardScaler\n",
    "from sklearn.linear_model import LogisticRegression\n",
    "from sklearn.metrics import accuracy_score, classification_report"
   ]
  },
  {
   "cell_type": "code",
   "execution_count": 3,
   "metadata": {},
   "outputs": [],
   "source": [
    "def data_loader(batch_size):\n",
    "    \"\"\"\n",
    "    Given a batch size, generate loaders\n",
    "\n",
    "    Args:\n",
    "        batch_size: int representing number of samples per batch\n",
    "\n",
    "    Returns:\n",
    "        train_loader: iterable training dataset organized according to batch size\n",
    "        val_loader: iterable validation dataset organized according to batch size\n",
    "        test_loader: iterable testing dataset organized according to batch size\n",
    "    \"\"\"\n",
    "    transform_data = transforms.Compose([\n",
    "        transforms.Resize(256, interpolation=transforms.InterpolationMode.BILINEAR),\n",
    "        transforms.CenterCrop(224), \n",
    "        transforms.ToTensor(),\n",
    "        transforms.Normalize(mean=[0.485, 0.456, 0.406], std=[0.229, 0.224, 0.225])\n",
    "    ])\n",
    "\n",
    "    # Load the entire dataset\n",
    "    full_dataset = datasets.ImageFolder(root='augmented', transform=transform_data)\n",
    "\n",
    "    # Determine the subset of the dataset to use\n",
    "    subset_size = .10\n",
    "    fraction_size = int(len(full_dataset) * subset_size)\n",
    "\n",
    "    # Take a subset of the full dataset\n",
    "    subset_dataset, _ = t.utils.data.random_split(full_dataset, [int(len(full_dataset) * subset_size), len(full_dataset) - fraction_size])\n",
    "\n",
    "    # Split the subset into training, validation, and testing\n",
    "    train_size = int(0.7 * fraction_size)\n",
    "    val_size = int(0.15 * fraction_size)\n",
    "    test_size = fraction_size - train_size - val_size\n",
    "\n",
    "    # Assign sizes to each subset\n",
    "    train_dataset, val_dataset, test_dataset = t.utils.data.random_split(\n",
    "        subset_dataset, [train_size, val_size, test_size]\n",
    "    )\n",
    "\n",
    "    # Create data loaders\n",
    "    train_loader = DataLoader(train_dataset, batch_size=batch_size, shuffle=True)\n",
    "    val_loader = DataLoader(val_dataset, batch_size=batch_size)\n",
    "    test_loader = DataLoader(test_dataset, batch_size=batch_size)\n",
    "\n",
    "    return train_loader, val_loader, test_loader"
   ]
  },
  {
   "cell_type": "code",
   "execution_count": 7,
   "metadata": {},
   "outputs": [
    {
     "name": "stderr",
     "output_type": "stream",
     "text": [
      "[Parallel(n_jobs=-1)]: Using backend LokyBackend with 16 concurrent workers.\n"
     ]
    }
   ],
   "source": [
    "# Define batch size\n",
    "batch_size = 32\n",
    "\n",
    "# Load data using data_loader function\n",
    "train_loader, val_loader, test_loader = data_loader(batch_size)\n",
    "\n",
    "# Extracting features and labels from the train_loader\n",
    "train_features = []\n",
    "train_labels = []\n",
    "for images, labels in train_loader:\n",
    "    train_features.append(images.view(images.size(0), -1))\n",
    "    train_labels.append(labels)\n",
    "train_features = t.cat(train_features, dim=0)\n",
    "train_labels = t.cat(train_labels)\n",
    "\n",
    "# Standardizing the features\n",
    "scaler = StandardScaler()\n",
    "train_features_scaled = scaler.fit_transform(train_features)\n",
    "\n",
    "# Create and train the logistic regression model\n",
    "model = LogisticRegression(max_iter=1000, n_jobs=-1, verbose=2)\n",
    "model.fit(train_features_scaled, train_labels)\n",
    "\n",
    "# Evaluate the model on validation set\n",
    "val_features = []\n",
    "val_labels = []\n",
    "for images, labels in val_loader:\n",
    "    val_features.append(images.view(images.size(0), -1))\n",
    "    val_labels.append(labels)\n",
    "val_features = t.cat(val_features, dim=0)\n",
    "val_labels = t.cat(val_labels)\n",
    "\n",
    "val_features_scaled = scaler.transform(val_features)\n",
    "val_pred = model.predict(val_features_scaled)\n",
    "\n",
    "# Evaluate the model\n",
    "accuracy = accuracy_score(val_labels, val_pred)\n",
    "print(\"Accuracy:\", accuracy)\n",
    "\n",
    "# Display more detailed evaluation metrics\n",
    "print(classification_report(val_labels, val_pred))"
   ]
  }
 ],
 "metadata": {
  "kernelspec": {
   "display_name": "Python 3",
   "language": "python",
   "name": "python3"
  },
  "language_info": {
   "codemirror_mode": {
    "name": "ipython",
    "version": 3
   },
   "file_extension": ".py",
   "mimetype": "text/x-python",
   "name": "python",
   "nbconvert_exporter": "python",
   "pygments_lexer": "ipython3",
   "version": "3.10.11"
  }
 },
 "nbformat": 4,
 "nbformat_minor": 2
}
